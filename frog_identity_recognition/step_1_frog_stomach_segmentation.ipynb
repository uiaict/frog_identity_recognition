{
 "cells": [
  {
   "cell_type": "code",
   "execution_count": 34,
   "metadata": {},
   "outputs": [],
   "source": [
    "#!apt-key adv --fetch-keys http://developer.download.nvidia.com/compute/cuda/repos/ubuntu1604/x86_64/3bf863cc.pub\n",
    "#!apt-get update && apt install -y git\n"
   ]
  },
  {
   "cell_type": "code",
   "execution_count": 35,
   "metadata": {},
   "outputs": [
    {
     "name": "stdout",
     "output_type": "stream",
     "text": [
      "Collecting git+https://github.com/mdrokz/Mask-RCNN-TF2.7.0-keras2.7.0.git\r\n",
      "  Cloning https://github.com/mdrokz/Mask-RCNN-TF2.7.0-keras2.7.0.git to /tmp/pip-req-build-07og04zj\r\n",
      "  Running command git clone --filter=blob:none --quiet https://github.com/mdrokz/Mask-RCNN-TF2.7.0-keras2.7.0.git /tmp/pip-req-build-07og04zj\r\n",
      "  Resolved https://github.com/mdrokz/Mask-RCNN-TF2.7.0-keras2.7.0.git to commit 87246652e054b79781a155ab151ecad0b1634e48\r\n",
      "  Preparing metadata (setup.py) ... \u001B[?25ldone\r\n",
      "\u001B[?25h"
     ]
    }
   ],
   "source": [
    "#!pip install git+https://github.com/matterport/Mask_RCNN.git --upgrade\n",
    "!pip install git+https://github.com/mdrokz/Mask-RCNN-TF2.7.0-keras2.7.0.git --upgrade"
   ]
  },
  {
   "cell_type": "markdown",
   "metadata": {},
   "source": [
    "# Dependencies"
   ]
  },
  {
   "cell_type": "code",
   "execution_count": 36,
   "metadata": {},
   "outputs": [
    {
     "name": "stdout",
     "output_type": "stream",
     "text": [
      "Requirement already satisfied: numpy in /opt/anaconda/envs/Auto-Annotate/lib/python3.7/site-packages (1.21.6)\r\n",
      "Requirement already satisfied: scipy in /opt/anaconda/envs/Auto-Annotate/lib/python3.7/site-packages (1.7.3)\r\n",
      "Requirement already satisfied: Pillow in /opt/anaconda/envs/Auto-Annotate/lib/python3.7/site-packages (9.2.0)\r\n",
      "Requirement already satisfied: cython in /opt/anaconda/envs/Auto-Annotate/lib/python3.7/site-packages (0.29.32)\r\n",
      "Requirement already satisfied: matplotlib in /opt/anaconda/envs/Auto-Annotate/lib/python3.7/site-packages (3.5.3)\r\n",
      "Requirement already satisfied: imgaug in /opt/anaconda/envs/Auto-Annotate/lib/python3.7/site-packages (0.4.0)\r\n",
      "Requirement already satisfied: opencv-python in /opt/anaconda/envs/Auto-Annotate/lib/python3.7/site-packages (4.6.0.66)\r\n",
      "Requirement already satisfied: datasets in /opt/anaconda/envs/Auto-Annotate/lib/python3.7/site-packages (2.5.1)\r\n",
      "Requirement already satisfied: IPython[all] in /opt/anaconda/envs/Auto-Annotate/lib/python3.7/site-packages (7.31.1)\r\n",
      "Requirement already satisfied: fonttools>=4.22.0 in /opt/anaconda/envs/Auto-Annotate/lib/python3.7/site-packages (from matplotlib) (4.37.4)\r\n",
      "Requirement already satisfied: pyparsing>=2.2.1 in /opt/anaconda/envs/Auto-Annotate/lib/python3.7/site-packages (from matplotlib) (3.0.9)\r\n",
      "Requirement already satisfied: python-dateutil>=2.7 in /opt/anaconda/envs/Auto-Annotate/lib/python3.7/site-packages (from matplotlib) (2.8.2)\r\n",
      "Requirement already satisfied: packaging>=20.0 in /opt/anaconda/envs/Auto-Annotate/lib/python3.7/site-packages (from matplotlib) (21.3)\r\n",
      "Requirement already satisfied: cycler>=0.10 in /opt/anaconda/envs/Auto-Annotate/lib/python3.7/site-packages (from matplotlib) (0.11.0)\r\n",
      "Requirement already satisfied: kiwisolver>=1.0.1 in /opt/anaconda/envs/Auto-Annotate/lib/python3.7/site-packages (from matplotlib) (1.4.4)\r\n",
      "Requirement already satisfied: scikit-image>=0.14.2 in /opt/anaconda/envs/Auto-Annotate/lib/python3.7/site-packages (from imgaug) (0.16.2)\r\n",
      "Requirement already satisfied: six in /opt/anaconda/envs/Auto-Annotate/lib/python3.7/site-packages (from imgaug) (1.16.0)\r\n",
      "Requirement already satisfied: imageio in /opt/anaconda/envs/Auto-Annotate/lib/python3.7/site-packages (from imgaug) (2.22.0)\r\n",
      "Requirement already satisfied: Shapely in /opt/anaconda/envs/Auto-Annotate/lib/python3.7/site-packages (from imgaug) (1.8.4)\r\n",
      "Requirement already satisfied: pyarrow>=6.0.0 in /opt/anaconda/envs/Auto-Annotate/lib/python3.7/site-packages (from datasets) (9.0.0)\r\n",
      "Requirement already satisfied: responses<0.19 in /opt/anaconda/envs/Auto-Annotate/lib/python3.7/site-packages (from datasets) (0.18.0)\r\n",
      "Requirement already satisfied: aiohttp in /opt/anaconda/envs/Auto-Annotate/lib/python3.7/site-packages (from datasets) (3.8.3)\r\n",
      "Requirement already satisfied: multiprocess in /opt/anaconda/envs/Auto-Annotate/lib/python3.7/site-packages (from datasets) (0.70.13)\r\n",
      "Requirement already satisfied: huggingface-hub<1.0.0,>=0.1.0 in /opt/anaconda/envs/Auto-Annotate/lib/python3.7/site-packages (from datasets) (0.10.0)\r\n",
      "Requirement already satisfied: requests>=2.19.0 in /opt/anaconda/envs/Auto-Annotate/lib/python3.7/site-packages (from datasets) (2.28.1)\r\n",
      "Requirement already satisfied: dill<0.3.6 in /opt/anaconda/envs/Auto-Annotate/lib/python3.7/site-packages (from datasets) (0.3.5.1)\r\n",
      "Requirement already satisfied: fsspec[http]>=2021.11.1 in /opt/anaconda/envs/Auto-Annotate/lib/python3.7/site-packages (from datasets) (2022.8.2)\r\n",
      "Requirement already satisfied: tqdm>=4.62.1 in /opt/anaconda/envs/Auto-Annotate/lib/python3.7/site-packages (from datasets) (4.64.1)\r\n",
      "Requirement already satisfied: importlib-metadata in /opt/anaconda/envs/Auto-Annotate/lib/python3.7/site-packages (from datasets) (4.11.3)\r\n",
      "Requirement already satisfied: pandas in /opt/anaconda/envs/Auto-Annotate/lib/python3.7/site-packages (from datasets) (1.3.5)\r\n",
      "Requirement already satisfied: xxhash in /opt/anaconda/envs/Auto-Annotate/lib/python3.7/site-packages (from datasets) (3.0.0)\r\n",
      "Requirement already satisfied: pexpect>4.3 in /opt/anaconda/envs/Auto-Annotate/lib/python3.7/site-packages (from IPython[all]) (4.8.0)\r\n",
      "Requirement already satisfied: pickleshare in /opt/anaconda/envs/Auto-Annotate/lib/python3.7/site-packages (from IPython[all]) (0.7.5)\r\n",
      "Requirement already satisfied: traitlets>=4.2 in /opt/anaconda/envs/Auto-Annotate/lib/python3.7/site-packages (from IPython[all]) (5.1.1)\r\n",
      "Requirement already satisfied: pygments in /opt/anaconda/envs/Auto-Annotate/lib/python3.7/site-packages (from IPython[all]) (2.13.0)\r\n",
      "Requirement already satisfied: backcall in /opt/anaconda/envs/Auto-Annotate/lib/python3.7/site-packages (from IPython[all]) (0.2.0)\r\n",
      "Requirement already satisfied: matplotlib-inline in /opt/anaconda/envs/Auto-Annotate/lib/python3.7/site-packages (from IPython[all]) (0.1.6)\r\n",
      "Requirement already satisfied: prompt-toolkit!=3.0.0,!=3.0.1,<3.1.0,>=2.0.0 in /opt/anaconda/envs/Auto-Annotate/lib/python3.7/site-packages (from IPython[all]) (3.0.20)\r\n",
      "Requirement already satisfied: jedi>=0.16 in /opt/anaconda/envs/Auto-Annotate/lib/python3.7/site-packages (from IPython[all]) (0.18.1)\r\n",
      "Requirement already satisfied: setuptools>=18.5 in /opt/anaconda/envs/Auto-Annotate/lib/python3.7/site-packages (from IPython[all]) (63.4.1)\r\n",
      "Requirement already satisfied: decorator in /opt/anaconda/envs/Auto-Annotate/lib/python3.7/site-packages (from IPython[all]) (5.1.1)\r\n",
      "Requirement already satisfied: qtconsole in /opt/anaconda/envs/Auto-Annotate/lib/python3.7/site-packages (from IPython[all]) (5.3.2)\r\n",
      "Requirement already satisfied: testpath in /opt/anaconda/envs/Auto-Annotate/lib/python3.7/site-packages (from IPython[all]) (0.6.0)\r\n",
      "Requirement already satisfied: nose>=0.10.1 in /opt/anaconda/envs/Auto-Annotate/lib/python3.7/site-packages (from IPython[all]) (1.3.7)\r\n",
      "Requirement already satisfied: Sphinx>=1.3 in /opt/anaconda/envs/Auto-Annotate/lib/python3.7/site-packages (from IPython[all]) (5.2.3)\r\n",
      "Requirement already satisfied: ipyparallel in /opt/anaconda/envs/Auto-Annotate/lib/python3.7/site-packages (from IPython[all]) (8.4.1)\r\n",
      "Requirement already satisfied: ipykernel in /opt/anaconda/envs/Auto-Annotate/lib/python3.7/site-packages (from IPython[all]) (6.15.2)\r\n",
      "Requirement already satisfied: nbconvert in /opt/anaconda/envs/Auto-Annotate/lib/python3.7/site-packages (from IPython[all]) (6.4.4)\r\n",
      "Requirement already satisfied: notebook in /opt/anaconda/envs/Auto-Annotate/lib/python3.7/site-packages (from IPython[all]) (6.4.12)\r\n",
      "Requirement already satisfied: nbformat in /opt/anaconda/envs/Auto-Annotate/lib/python3.7/site-packages (from IPython[all]) (5.5.0)\r\n",
      "Requirement already satisfied: ipywidgets in /opt/anaconda/envs/Auto-Annotate/lib/python3.7/site-packages (from IPython[all]) (7.6.5)\r\n",
      "Requirement already satisfied: yarl<2.0,>=1.0 in /opt/anaconda/envs/Auto-Annotate/lib/python3.7/site-packages (from aiohttp->datasets) (1.8.1)\r\n",
      "Requirement already satisfied: frozenlist>=1.1.1 in /opt/anaconda/envs/Auto-Annotate/lib/python3.7/site-packages (from aiohttp->datasets) (1.3.1)\r\n",
      "Requirement already satisfied: attrs>=17.3.0 in /opt/anaconda/envs/Auto-Annotate/lib/python3.7/site-packages (from aiohttp->datasets) (21.4.0)\r\n",
      "Requirement already satisfied: async-timeout<5.0,>=4.0.0a3 in /opt/anaconda/envs/Auto-Annotate/lib/python3.7/site-packages (from aiohttp->datasets) (4.0.2)\r\n",
      "Requirement already satisfied: typing-extensions>=3.7.4 in /opt/anaconda/envs/Auto-Annotate/lib/python3.7/site-packages (from aiohttp->datasets) (4.3.0)\r\n",
      "Requirement already satisfied: aiosignal>=1.1.2 in /opt/anaconda/envs/Auto-Annotate/lib/python3.7/site-packages (from aiohttp->datasets) (1.2.0)\r\n",
      "Requirement already satisfied: multidict<7.0,>=4.5 in /opt/anaconda/envs/Auto-Annotate/lib/python3.7/site-packages (from aiohttp->datasets) (6.0.2)\r\n",
      "Requirement already satisfied: charset-normalizer<3.0,>=2.0 in /opt/anaconda/envs/Auto-Annotate/lib/python3.7/site-packages (from aiohttp->datasets) (2.0.4)\r\n",
      "Requirement already satisfied: asynctest==0.13.0 in /opt/anaconda/envs/Auto-Annotate/lib/python3.7/site-packages (from aiohttp->datasets) (0.13.0)\r\n",
      "Requirement already satisfied: pyyaml>=5.1 in /opt/anaconda/envs/Auto-Annotate/lib/python3.7/site-packages (from huggingface-hub<1.0.0,>=0.1.0->datasets) (6.0)\r\n",
      "Requirement already satisfied: filelock in /opt/anaconda/envs/Auto-Annotate/lib/python3.7/site-packages (from huggingface-hub<1.0.0,>=0.1.0->datasets) (3.8.0)\r\n",
      "Requirement already satisfied: parso<0.9.0,>=0.8.0 in /opt/anaconda/envs/Auto-Annotate/lib/python3.7/site-packages (from jedi>=0.16->IPython[all]) (0.8.3)\r\n",
      "Requirement already satisfied: ptyprocess>=0.5 in /opt/anaconda/envs/Auto-Annotate/lib/python3.7/site-packages (from pexpect>4.3->IPython[all]) (0.7.0)\r\n",
      "Requirement already satisfied: wcwidth in /opt/anaconda/envs/Auto-Annotate/lib/python3.7/site-packages (from prompt-toolkit!=3.0.0,!=3.0.1,<3.1.0,>=2.0.0->IPython[all]) (0.2.5)\r\n",
      "Requirement already satisfied: urllib3<1.27,>=1.21.1 in /opt/anaconda/envs/Auto-Annotate/lib/python3.7/site-packages (from requests>=2.19.0->datasets) (1.26.11)\r\n",
      "Requirement already satisfied: idna<4,>=2.5 in /opt/anaconda/envs/Auto-Annotate/lib/python3.7/site-packages (from requests>=2.19.0->datasets) (3.3)\r\n",
      "Requirement already satisfied: certifi>=2017.4.17 in /opt/anaconda/envs/Auto-Annotate/lib/python3.7/site-packages (from requests>=2.19.0->datasets) (2022.9.14)\r\n",
      "Requirement already satisfied: PyWavelets>=0.4.0 in /opt/anaconda/envs/Auto-Annotate/lib/python3.7/site-packages (from scikit-image>=0.14.2->imgaug) (1.3.0)\r\n",
      "Requirement already satisfied: networkx>=2.0 in /opt/anaconda/envs/Auto-Annotate/lib/python3.7/site-packages (from scikit-image>=0.14.2->imgaug) (2.6.3)\r\n",
      "Requirement already satisfied: babel>=2.9 in /opt/anaconda/envs/Auto-Annotate/lib/python3.7/site-packages (from Sphinx>=1.3->IPython[all]) (2.9.1)\r\n",
      "Requirement already satisfied: sphinxcontrib-htmlhelp>=2.0.0 in /opt/anaconda/envs/Auto-Annotate/lib/python3.7/site-packages (from Sphinx>=1.3->IPython[all]) (2.0.0)\r\n",
      "Requirement already satisfied: alabaster<0.8,>=0.7 in /opt/anaconda/envs/Auto-Annotate/lib/python3.7/site-packages (from Sphinx>=1.3->IPython[all]) (0.7.12)\r\n",
      "Requirement already satisfied: sphinxcontrib-qthelp in /opt/anaconda/envs/Auto-Annotate/lib/python3.7/site-packages (from Sphinx>=1.3->IPython[all]) (1.0.3)\r\n",
      "Requirement already satisfied: docutils<0.20,>=0.14 in /opt/anaconda/envs/Auto-Annotate/lib/python3.7/site-packages (from Sphinx>=1.3->IPython[all]) (0.19)\r\n",
      "Requirement already satisfied: sphinxcontrib-serializinghtml>=1.1.5 in /opt/anaconda/envs/Auto-Annotate/lib/python3.7/site-packages (from Sphinx>=1.3->IPython[all]) (1.1.5)\r\n",
      "Requirement already satisfied: snowballstemmer>=2.0 in /opt/anaconda/envs/Auto-Annotate/lib/python3.7/site-packages (from Sphinx>=1.3->IPython[all]) (2.2.0)\r\n",
      "Requirement already satisfied: Jinja2>=3.0 in /opt/anaconda/envs/Auto-Annotate/lib/python3.7/site-packages (from Sphinx>=1.3->IPython[all]) (3.0.3)\r\n",
      "Requirement already satisfied: sphinxcontrib-jsmath in /opt/anaconda/envs/Auto-Annotate/lib/python3.7/site-packages (from Sphinx>=1.3->IPython[all]) (1.0.1)\r\n",
      "Requirement already satisfied: sphinxcontrib-applehelp in /opt/anaconda/envs/Auto-Annotate/lib/python3.7/site-packages (from Sphinx>=1.3->IPython[all]) (1.0.2)\r\n",
      "Requirement already satisfied: sphinxcontrib-devhelp in /opt/anaconda/envs/Auto-Annotate/lib/python3.7/site-packages (from Sphinx>=1.3->IPython[all]) (1.0.2)\r\n",
      "Requirement already satisfied: imagesize>=1.3 in /opt/anaconda/envs/Auto-Annotate/lib/python3.7/site-packages (from Sphinx>=1.3->IPython[all]) (1.4.1)\r\n",
      "Requirement already satisfied: zipp>=0.5 in /opt/anaconda/envs/Auto-Annotate/lib/python3.7/site-packages (from importlib-metadata->datasets) (3.8.0)\r\n",
      "Requirement already satisfied: nest-asyncio in /opt/anaconda/envs/Auto-Annotate/lib/python3.7/site-packages (from ipykernel->IPython[all]) (1.5.5)\r\n",
      "Requirement already satisfied: psutil in /opt/anaconda/envs/Auto-Annotate/lib/python3.7/site-packages (from ipykernel->IPython[all]) (5.9.0)\r\n",
      "Requirement already satisfied: jupyter-client>=6.1.12 in /opt/anaconda/envs/Auto-Annotate/lib/python3.7/site-packages (from ipykernel->IPython[all]) (7.3.5)\r\n",
      "Requirement already satisfied: debugpy>=1.0 in /opt/anaconda/envs/Auto-Annotate/lib/python3.7/site-packages (from ipykernel->IPython[all]) (1.5.1)\r\n",
      "Requirement already satisfied: pyzmq>=17 in /opt/anaconda/envs/Auto-Annotate/lib/python3.7/site-packages (from ipykernel->IPython[all]) (23.2.0)\r\n",
      "Requirement already satisfied: tornado>=6.1 in /opt/anaconda/envs/Auto-Annotate/lib/python3.7/site-packages (from ipykernel->IPython[all]) (6.2)\r\n",
      "Requirement already satisfied: entrypoints in /opt/anaconda/envs/Auto-Annotate/lib/python3.7/site-packages (from ipyparallel->IPython[all]) (0.4)\r\n",
      "Requirement already satisfied: widgetsnbextension~=3.5.0 in /opt/anaconda/envs/Auto-Annotate/lib/python3.7/site-packages (from ipywidgets->IPython[all]) (3.5.2)\r\n",
      "Requirement already satisfied: ipython-genutils~=0.2.0 in /opt/anaconda/envs/Auto-Annotate/lib/python3.7/site-packages (from ipywidgets->IPython[all]) (0.2.0)\r\n",
      "Requirement already satisfied: jupyterlab-widgets>=1.0.0 in /opt/anaconda/envs/Auto-Annotate/lib/python3.7/site-packages (from ipywidgets->IPython[all]) (1.0.0)\r\n",
      "Requirement already satisfied: jupyter_core in /opt/anaconda/envs/Auto-Annotate/lib/python3.7/site-packages (from nbformat->IPython[all]) (4.10.0)\r\n",
      "Requirement already satisfied: jsonschema>=2.6 in /opt/anaconda/envs/Auto-Annotate/lib/python3.7/site-packages (from nbformat->IPython[all]) (4.16.0)\r\n",
      "Requirement already satisfied: fastjsonschema in /opt/anaconda/envs/Auto-Annotate/lib/python3.7/site-packages (from nbformat->IPython[all]) (2.16.2)\r\n",
      "Requirement already satisfied: mistune<2,>=0.8.1 in /opt/anaconda/envs/Auto-Annotate/lib/python3.7/site-packages (from nbconvert->IPython[all]) (0.8.4)\r\n",
      "Requirement already satisfied: jupyterlab-pygments in /opt/anaconda/envs/Auto-Annotate/lib/python3.7/site-packages (from nbconvert->IPython[all]) (0.1.2)\r\n",
      "Requirement already satisfied: beautifulsoup4 in /opt/anaconda/envs/Auto-Annotate/lib/python3.7/site-packages (from nbconvert->IPython[all]) (4.11.1)\r\n",
      "Requirement already satisfied: nbclient<0.6.0,>=0.5.0 in /opt/anaconda/envs/Auto-Annotate/lib/python3.7/site-packages (from nbconvert->IPython[all]) (0.5.13)\r\n",
      "Requirement already satisfied: bleach in /opt/anaconda/envs/Auto-Annotate/lib/python3.7/site-packages (from nbconvert->IPython[all]) (4.1.0)\r\n",
      "Requirement already satisfied: pandocfilters>=1.4.1 in /opt/anaconda/envs/Auto-Annotate/lib/python3.7/site-packages (from nbconvert->IPython[all]) (1.5.0)\r\n",
      "Requirement already satisfied: defusedxml in /opt/anaconda/envs/Auto-Annotate/lib/python3.7/site-packages (from nbconvert->IPython[all]) (0.7.1)\r\n",
      "Requirement already satisfied: terminado>=0.8.3 in /opt/anaconda/envs/Auto-Annotate/lib/python3.7/site-packages (from notebook->IPython[all]) (0.13.1)\r\n",
      "Requirement already satisfied: Send2Trash>=1.8.0 in /opt/anaconda/envs/Auto-Annotate/lib/python3.7/site-packages (from notebook->IPython[all]) (1.8.0)\r\n",
      "Requirement already satisfied: prometheus-client in /opt/anaconda/envs/Auto-Annotate/lib/python3.7/site-packages (from notebook->IPython[all]) (0.14.1)\r\n",
      "Requirement already satisfied: argon2-cffi in /opt/anaconda/envs/Auto-Annotate/lib/python3.7/site-packages (from notebook->IPython[all]) (21.3.0)\r\n",
      "Requirement already satisfied: pytz>=2017.3 in /opt/anaconda/envs/Auto-Annotate/lib/python3.7/site-packages (from pandas->datasets) (2022.1)\r\n",
      "Requirement already satisfied: qtpy>=2.0.1 in /opt/anaconda/envs/Auto-Annotate/lib/python3.7/site-packages (from qtconsole->IPython[all]) (2.2.0)\r\n",
      "Requirement already satisfied: MarkupSafe>=2.0 in /opt/anaconda/envs/Auto-Annotate/lib/python3.7/site-packages (from Jinja2>=3.0->Sphinx>=1.3->IPython[all]) (2.1.1)\r\n",
      "Requirement already satisfied: pkgutil-resolve-name>=1.3.10 in /opt/anaconda/envs/Auto-Annotate/lib/python3.7/site-packages (from jsonschema>=2.6->nbformat->IPython[all]) (1.3.10)\r\n",
      "Requirement already satisfied: importlib-resources>=1.4.0 in /opt/anaconda/envs/Auto-Annotate/lib/python3.7/site-packages (from jsonschema>=2.6->nbformat->IPython[all]) (5.2.0)\r\n",
      "Requirement already satisfied: pyrsistent!=0.17.0,!=0.17.1,!=0.17.2,>=0.14.0 in /opt/anaconda/envs/Auto-Annotate/lib/python3.7/site-packages (from jsonschema>=2.6->nbformat->IPython[all]) (0.18.0)\r\n",
      "Requirement already satisfied: argon2-cffi-bindings in /opt/anaconda/envs/Auto-Annotate/lib/python3.7/site-packages (from argon2-cffi->notebook->IPython[all]) (21.2.0)\r\n",
      "Requirement already satisfied: soupsieve>1.2 in /opt/anaconda/envs/Auto-Annotate/lib/python3.7/site-packages (from beautifulsoup4->nbconvert->IPython[all]) (2.3.1)\r\n",
      "Requirement already satisfied: webencodings in /opt/anaconda/envs/Auto-Annotate/lib/python3.7/site-packages (from bleach->nbconvert->IPython[all]) (0.5.1)\r\n",
      "Requirement already satisfied: cffi>=1.0.1 in /opt/anaconda/envs/Auto-Annotate/lib/python3.7/site-packages (from argon2-cffi-bindings->argon2-cffi->notebook->IPython[all]) (1.15.1)\r\n",
      "Requirement already satisfied: pycparser in /opt/anaconda/envs/Auto-Annotate/lib/python3.7/site-packages (from cffi>=1.0.1->argon2-cffi-bindings->argon2-cffi->notebook->IPython[all]) (2.21)\r\n",
      "Requirement already satisfied: scikit-image==0.16.2 in /opt/anaconda/envs/Auto-Annotate/lib/python3.7/site-packages (0.16.2)\r\n",
      "Requirement already satisfied: scipy>=0.19.0 in /opt/anaconda/envs/Auto-Annotate/lib/python3.7/site-packages (from scikit-image==0.16.2) (1.7.3)\r\n",
      "Requirement already satisfied: networkx>=2.0 in /opt/anaconda/envs/Auto-Annotate/lib/python3.7/site-packages (from scikit-image==0.16.2) (2.6.3)\r\n",
      "Requirement already satisfied: pillow>=4.3.0 in /opt/anaconda/envs/Auto-Annotate/lib/python3.7/site-packages (from scikit-image==0.16.2) (9.2.0)\r\n",
      "Requirement already satisfied: matplotlib!=3.0.0,>=2.0.0 in /opt/anaconda/envs/Auto-Annotate/lib/python3.7/site-packages (from scikit-image==0.16.2) (3.5.3)\r\n",
      "Requirement already satisfied: PyWavelets>=0.4.0 in /opt/anaconda/envs/Auto-Annotate/lib/python3.7/site-packages (from scikit-image==0.16.2) (1.3.0)\r\n",
      "Requirement already satisfied: imageio>=2.3.0 in /opt/anaconda/envs/Auto-Annotate/lib/python3.7/site-packages (from scikit-image==0.16.2) (2.22.0)\r\n",
      "Requirement already satisfied: numpy in /opt/anaconda/envs/Auto-Annotate/lib/python3.7/site-packages (from imageio>=2.3.0->scikit-image==0.16.2) (1.21.6)\r\n",
      "Requirement already satisfied: pyparsing>=2.2.1 in /opt/anaconda/envs/Auto-Annotate/lib/python3.7/site-packages (from matplotlib!=3.0.0,>=2.0.0->scikit-image==0.16.2) (3.0.9)\r\n",
      "Requirement already satisfied: packaging>=20.0 in /opt/anaconda/envs/Auto-Annotate/lib/python3.7/site-packages (from matplotlib!=3.0.0,>=2.0.0->scikit-image==0.16.2) (21.3)\r\n",
      "Requirement already satisfied: cycler>=0.10 in /opt/anaconda/envs/Auto-Annotate/lib/python3.7/site-packages (from matplotlib!=3.0.0,>=2.0.0->scikit-image==0.16.2) (0.11.0)\r\n",
      "Requirement already satisfied: python-dateutil>=2.7 in /opt/anaconda/envs/Auto-Annotate/lib/python3.7/site-packages (from matplotlib!=3.0.0,>=2.0.0->scikit-image==0.16.2) (2.8.2)\r\n",
      "Requirement already satisfied: fonttools>=4.22.0 in /opt/anaconda/envs/Auto-Annotate/lib/python3.7/site-packages (from matplotlib!=3.0.0,>=2.0.0->scikit-image==0.16.2) (4.37.4)\r\n",
      "Requirement already satisfied: kiwisolver>=1.0.1 in /opt/anaconda/envs/Auto-Annotate/lib/python3.7/site-packages (from matplotlib!=3.0.0,>=2.0.0->scikit-image==0.16.2) (1.4.4)\r\n",
      "Requirement already satisfied: typing-extensions in /opt/anaconda/envs/Auto-Annotate/lib/python3.7/site-packages (from kiwisolver>=1.0.1->matplotlib!=3.0.0,>=2.0.0->scikit-image==0.16.2) (4.3.0)\r\n",
      "Requirement already satisfied: six>=1.5 in /opt/anaconda/envs/Auto-Annotate/lib/python3.7/site-packages (from python-dateutil>=2.7->matplotlib!=3.0.0,>=2.0.0->scikit-image==0.16.2) (1.16.0)\r\n",
      "Requirement already satisfied: tensorflow==2.7.0 in /opt/anaconda/envs/Auto-Annotate/lib/python3.7/site-packages (2.7.0)\r\n",
      "Requirement already satisfied: grpcio<2.0,>=1.24.3 in /opt/anaconda/envs/Auto-Annotate/lib/python3.7/site-packages (from tensorflow==2.7.0) (1.49.1)\r\n",
      "Requirement already satisfied: google-pasta>=0.1.1 in /opt/anaconda/envs/Auto-Annotate/lib/python3.7/site-packages (from tensorflow==2.7.0) (0.2.0)\r\n",
      "Requirement already satisfied: keras<2.8,>=2.7.0rc0 in /opt/anaconda/envs/Auto-Annotate/lib/python3.7/site-packages (from tensorflow==2.7.0) (2.7.0)\r\n",
      "Requirement already satisfied: six>=1.12.0 in /opt/anaconda/envs/Auto-Annotate/lib/python3.7/site-packages (from tensorflow==2.7.0) (1.16.0)\r\n",
      "Requirement already satisfied: tensorflow-estimator<2.8,~=2.7.0rc0 in /opt/anaconda/envs/Auto-Annotate/lib/python3.7/site-packages (from tensorflow==2.7.0) (2.7.0)\r\n",
      "Requirement already satisfied: opt-einsum>=2.3.2 in /opt/anaconda/envs/Auto-Annotate/lib/python3.7/site-packages (from tensorflow==2.7.0) (3.3.0)\r\n",
      "Requirement already satisfied: protobuf>=3.9.2 in /opt/anaconda/envs/Auto-Annotate/lib/python3.7/site-packages (from tensorflow==2.7.0) (3.19.6)\r\n",
      "Requirement already satisfied: flatbuffers<3.0,>=1.12 in /opt/anaconda/envs/Auto-Annotate/lib/python3.7/site-packages (from tensorflow==2.7.0) (2.0.7)\r\n",
      "Requirement already satisfied: wrapt>=1.11.0 in /opt/anaconda/envs/Auto-Annotate/lib/python3.7/site-packages (from tensorflow==2.7.0) (1.14.1)\r\n",
      "Requirement already satisfied: h5py>=2.9.0 in /opt/anaconda/envs/Auto-Annotate/lib/python3.7/site-packages (from tensorflow==2.7.0) (2.10.0)\r\n",
      "Requirement already satisfied: libclang>=9.0.1 in /opt/anaconda/envs/Auto-Annotate/lib/python3.7/site-packages (from tensorflow==2.7.0) (14.0.6)\r\n",
      "Requirement already satisfied: wheel<1.0,>=0.32.0 in /opt/anaconda/envs/Auto-Annotate/lib/python3.7/site-packages (from tensorflow==2.7.0) (0.37.1)\r\n",
      "Requirement already satisfied: tensorboard~=2.6 in /opt/anaconda/envs/Auto-Annotate/lib/python3.7/site-packages (from tensorflow==2.7.0) (2.10.1)\r\n",
      "Requirement already satisfied: termcolor>=1.1.0 in /opt/anaconda/envs/Auto-Annotate/lib/python3.7/site-packages (from tensorflow==2.7.0) (2.0.1)\r\n",
      "Requirement already satisfied: astunparse>=1.6.0 in /opt/anaconda/envs/Auto-Annotate/lib/python3.7/site-packages (from tensorflow==2.7.0) (1.6.3)\r\n",
      "Requirement already satisfied: typing-extensions>=3.6.6 in /opt/anaconda/envs/Auto-Annotate/lib/python3.7/site-packages (from tensorflow==2.7.0) (4.3.0)\r\n",
      "Requirement already satisfied: numpy>=1.14.5 in /opt/anaconda/envs/Auto-Annotate/lib/python3.7/site-packages (from tensorflow==2.7.0) (1.21.6)\r\n",
      "Requirement already satisfied: tensorflow-io-gcs-filesystem>=0.21.0 in /opt/anaconda/envs/Auto-Annotate/lib/python3.7/site-packages (from tensorflow==2.7.0) (0.27.0)\r\n",
      "Requirement already satisfied: gast<0.5.0,>=0.2.1 in /opt/anaconda/envs/Auto-Annotate/lib/python3.7/site-packages (from tensorflow==2.7.0) (0.2.2)\r\n",
      "Requirement already satisfied: keras-preprocessing>=1.1.1 in /opt/anaconda/envs/Auto-Annotate/lib/python3.7/site-packages (from tensorflow==2.7.0) (1.1.2)\r\n",
      "Requirement already satisfied: absl-py>=0.4.0 in /opt/anaconda/envs/Auto-Annotate/lib/python3.7/site-packages (from tensorflow==2.7.0) (1.2.0)\r\n",
      "Requirement already satisfied: tensorboard-plugin-wit>=1.6.0 in /opt/anaconda/envs/Auto-Annotate/lib/python3.7/site-packages (from tensorboard~=2.6->tensorflow==2.7.0) (1.8.1)\r\n",
      "Requirement already satisfied: google-auth-oauthlib<0.5,>=0.4.1 in /opt/anaconda/envs/Auto-Annotate/lib/python3.7/site-packages (from tensorboard~=2.6->tensorflow==2.7.0) (0.4.6)\r\n",
      "Requirement already satisfied: google-auth<3,>=1.6.3 in /opt/anaconda/envs/Auto-Annotate/lib/python3.7/site-packages (from tensorboard~=2.6->tensorflow==2.7.0) (1.35.0)\r\n",
      "Requirement already satisfied: werkzeug>=1.0.1 in /opt/anaconda/envs/Auto-Annotate/lib/python3.7/site-packages (from tensorboard~=2.6->tensorflow==2.7.0) (2.2.2)\r\n",
      "Requirement already satisfied: setuptools>=41.0.0 in /opt/anaconda/envs/Auto-Annotate/lib/python3.7/site-packages (from tensorboard~=2.6->tensorflow==2.7.0) (63.4.1)\r\n",
      "Requirement already satisfied: markdown>=2.6.8 in /opt/anaconda/envs/Auto-Annotate/lib/python3.7/site-packages (from tensorboard~=2.6->tensorflow==2.7.0) (3.4.1)\r\n",
      "Requirement already satisfied: requests<3,>=2.21.0 in /opt/anaconda/envs/Auto-Annotate/lib/python3.7/site-packages (from tensorboard~=2.6->tensorflow==2.7.0) (2.28.1)\r\n",
      "Requirement already satisfied: tensorboard-data-server<0.7.0,>=0.6.0 in /opt/anaconda/envs/Auto-Annotate/lib/python3.7/site-packages (from tensorboard~=2.6->tensorflow==2.7.0) (0.6.1)\r\n",
      "Requirement already satisfied: cachetools<5.0,>=2.0.0 in /opt/anaconda/envs/Auto-Annotate/lib/python3.7/site-packages (from google-auth<3,>=1.6.3->tensorboard~=2.6->tensorflow==2.7.0) (4.2.4)\r\n",
      "Requirement already satisfied: pyasn1-modules>=0.2.1 in /opt/anaconda/envs/Auto-Annotate/lib/python3.7/site-packages (from google-auth<3,>=1.6.3->tensorboard~=2.6->tensorflow==2.7.0) (0.2.8)\r\n",
      "Requirement already satisfied: rsa<5,>=3.1.4 in /opt/anaconda/envs/Auto-Annotate/lib/python3.7/site-packages (from google-auth<3,>=1.6.3->tensorboard~=2.6->tensorflow==2.7.0) (4.9)\r\n",
      "Requirement already satisfied: requests-oauthlib>=0.7.0 in /opt/anaconda/envs/Auto-Annotate/lib/python3.7/site-packages (from google-auth-oauthlib<0.5,>=0.4.1->tensorboard~=2.6->tensorflow==2.7.0) (1.3.1)\r\n",
      "Requirement already satisfied: importlib-metadata>=4.4 in /opt/anaconda/envs/Auto-Annotate/lib/python3.7/site-packages (from markdown>=2.6.8->tensorboard~=2.6->tensorflow==2.7.0) (4.11.3)\r\n",
      "Requirement already satisfied: urllib3<1.27,>=1.21.1 in /opt/anaconda/envs/Auto-Annotate/lib/python3.7/site-packages (from requests<3,>=2.21.0->tensorboard~=2.6->tensorflow==2.7.0) (1.26.11)\r\n",
      "Requirement already satisfied: idna<4,>=2.5 in /opt/anaconda/envs/Auto-Annotate/lib/python3.7/site-packages (from requests<3,>=2.21.0->tensorboard~=2.6->tensorflow==2.7.0) (3.3)\r\n",
      "Requirement already satisfied: certifi>=2017.4.17 in /opt/anaconda/envs/Auto-Annotate/lib/python3.7/site-packages (from requests<3,>=2.21.0->tensorboard~=2.6->tensorflow==2.7.0) (2022.9.14)\r\n",
      "Requirement already satisfied: charset-normalizer<3,>=2 in /opt/anaconda/envs/Auto-Annotate/lib/python3.7/site-packages (from requests<3,>=2.21.0->tensorboard~=2.6->tensorflow==2.7.0) (2.0.4)\r\n",
      "Requirement already satisfied: MarkupSafe>=2.1.1 in /opt/anaconda/envs/Auto-Annotate/lib/python3.7/site-packages (from werkzeug>=1.0.1->tensorboard~=2.6->tensorflow==2.7.0) (2.1.1)\r\n",
      "Requirement already satisfied: zipp>=0.5 in /opt/anaconda/envs/Auto-Annotate/lib/python3.7/site-packages (from importlib-metadata>=4.4->markdown>=2.6.8->tensorboard~=2.6->tensorflow==2.7.0) (3.8.0)\r\n",
      "Requirement already satisfied: pyasn1<0.5.0,>=0.4.6 in /opt/anaconda/envs/Auto-Annotate/lib/python3.7/site-packages (from pyasn1-modules>=0.2.1->google-auth<3,>=1.6.3->tensorboard~=2.6->tensorflow==2.7.0) (0.4.8)\r\n",
      "Requirement already satisfied: oauthlib>=3.0.0 in /opt/anaconda/envs/Auto-Annotate/lib/python3.7/site-packages (from requests-oauthlib>=0.7.0->google-auth-oauthlib<0.5,>=0.4.1->tensorboard~=2.6->tensorflow==2.7.0) (3.2.1)\r\n",
      "Requirement already satisfied: keras==2.7.0 in /opt/anaconda/envs/Auto-Annotate/lib/python3.7/site-packages (2.7.0)\r\n",
      "Requirement already satisfied: opencv-python in /opt/anaconda/envs/Auto-Annotate/lib/python3.7/site-packages (4.6.0.66)\r\n",
      "Requirement already satisfied: numpy>=1.14.5 in /opt/anaconda/envs/Auto-Annotate/lib/python3.7/site-packages (from opencv-python) (1.21.6)\r\n",
      "Requirement already satisfied: h5py==2.10.0 in /opt/anaconda/envs/Auto-Annotate/lib/python3.7/site-packages (2.10.0)\r\n",
      "Requirement already satisfied: numpy>=1.7 in /opt/anaconda/envs/Auto-Annotate/lib/python3.7/site-packages (from h5py==2.10.0) (1.21.6)\r\n",
      "Requirement already satisfied: six in /opt/anaconda/envs/Auto-Annotate/lib/python3.7/site-packages (from h5py==2.10.0) (1.16.0)\r\n"
     ]
    }
   ],
   "source": [
    "!pip install numpy scipy Pillow cython matplotlib imgaug opencv-python datasets IPython[all]\n",
    "#!pip install scikit-image==0.16.2 keras==2.0.8 h5py==2.10.0\n",
    "#!pip install tensorflow-gpu==1.15.5'\n",
    "\n",
    "!pip install scikit-image==0.16.2\n",
    "!pip install tensorflow==2.7.0\n",
    "!pip install keras==2.7.0\n",
    "!pip install opencv-python\n",
    "!pip install h5py==2.10.0\n"
   ]
  },
  {
   "cell_type": "code",
   "execution_count": 37,
   "metadata": {},
   "outputs": [],
   "source": [
    "import os\n",
    "os.environ[\"PROTOCOL_BUFFERS_PYTHON_IMPLEMENTATION\"]  = \"python\""
   ]
  },
  {
   "cell_type": "markdown",
   "metadata": {},
   "source": [
    "# Import\n",
    "In order to train, we would need GPU power"
   ]
  },
  {
   "cell_type": "code",
   "execution_count": 38,
   "metadata": {},
   "outputs": [
    {
     "name": "stdout",
     "output_type": "stream",
     "text": [
      "2.7.0\n",
      "2.7.0\n"
     ]
    }
   ],
   "source": [
    "import tensorflow as tf\n",
    "import keras\n",
    "\n",
    "print(tf.__version__)\n",
    "print(keras.__version__)\n",
    "import pathlib\n",
    "from numpy import asarray\n",
    "import mrcnn.utils\n",
    "import mrcnn.config\n",
    "import mrcnn.model\n",
    "from mrcnn import visualize\n",
    "from datasets import load_dataset\n",
    "import numpy as np\n",
    "from mrcnn import utils\n",
    "import imgaug\n",
    "import warnings"
   ]
  },
  {
   "cell_type": "code",
   "execution_count": 39,
   "metadata": {},
   "outputs": [],
   "source": [
    "WEIGHTS_PATH = pathlib.Path(\"weights\")\n",
    "WEIGHTS_PATH.mkdir(exist_ok=True)\n",
    "\n",
    "WEIGHTS_CHECKPOINT_PATH = WEIGHTS_PATH.joinpath(\"checkpoints\")\n",
    "WEIGHTS_CHECKPOINT_PATH.mkdir(exist_ok=True)\n",
    "\n",
    "\n",
    "COCO_WEIGHTS = WEIGHTS_PATH.joinpath(\"mask_rcnn_coco.h5\")\n",
    "FROG_WEIGHTS = WEIGHTS_PATH.joinpath('mask_rcnn_frog.h5')\n",
    "\n",
    "\n",
    "CLASS_NAME = \"frog_stomach\"\n",
    "CLASS_NAMES = [CLASS_NAME, \"BG\"]\n",
    "FROG_IMAGES = \"./frog_photos\"\n",
    "FROG_DATASET = \"./pelophylax_lessonae\" \"\"#\"perara/pelophylax_lessonae\"\n",
    "\n",
    "\n",
    "WEIGHTS_CHECKPOINT_PATH.joinpath(CLASS_NAME).mkdir(exist_ok=True)"
   ]
  },
  {
   "cell_type": "markdown",
   "metadata": {},
   "source": [
    "# Download COCO weights if missing"
   ]
  },
  {
   "cell_type": "code",
   "execution_count": 40,
   "metadata": {},
   "outputs": [],
   "source": [
    "if not COCO_WEIGHTS.exists():\n",
    "    utils.download_trained_weights(str(COCO_WEIGHTS.absolute()))"
   ]
  },
  {
   "cell_type": "markdown",
   "source": [
    "# Configure dataset"
   ],
   "metadata": {
    "collapsed": false
   }
  },
  {
   "cell_type": "code",
   "execution_count": 41,
   "metadata": {},
   "outputs": [],
   "source": [
    "\n",
    "from mrcnn.model import DataGenerator\n",
    "from PIL import Image, ImageDraw\n",
    "\n",
    "\n",
    "class FrogStomachDataset(mrcnn.utils.Dataset):\n",
    "\n",
    "    def load_dataset(self, images_dir: str, dataset_dir: str=None, is_train=True):\n",
    "        # Adds information (image ID, image path, and annotation file path) about each image in a dictionary.\n",
    "        self.add_class(\"dataset\", 1, CLASS_NAME)\n",
    "\n",
    "        images_dir_path = pathlib.Path(images_dir)\n",
    "        dataset_split = \"train\" if is_train else \"validation\"\n",
    "        ds = load_dataset(\n",
    "            FROG_DATASET,\n",
    "            name=\"default\",\n",
    "            splits=[dataset_split],\n",
    "            image_dir=images_dir_path,\n",
    "            dataset_dir=dataset_dir\n",
    "        )\n",
    "\n",
    "        for sample in ds[dataset_split]:\n",
    "            image_id = sample[\"image_id\"]\n",
    "            image_path = sample[\"image_path\"]\n",
    "            annotation = sample[\"segmentation\"]\n",
    "            width = sample[\"width\"]\n",
    "            height = sample[\"height\"]\n",
    "            category_id = sample[\"category_id\"]\n",
    "\n",
    "            self.add_image('dataset', image_id=image_id, path=image_path, annotation=annotation, width=width, height=height, category_id=category_id)\n",
    "\n",
    "    # Loads the binary masks for an image.\n",
    "    def load_mask(self, image_id):\n",
    "\n",
    "        image_info = self.image_info[image_id]\n",
    "        annotations = image_info['annotation']\n",
    "        width = image_info[\"width\"]\n",
    "        height = image_info[\"height\"]\n",
    "        category_id = image_info[\"category_id\"]\n",
    "        instance_masks = []\n",
    "        class_ids = []\n",
    "\n",
    "\n",
    "        mask = Image.new('1', (width, height))\n",
    "        mask_draw = ImageDraw.ImageDraw(mask, '1')\n",
    "        for segmentation in annotations:\n",
    "            try:\n",
    "                mask_draw.polygon(segmentation, fill=1)\n",
    "            except:\n",
    "                pass\n",
    "            bool_array = np.array(mask) > 0\n",
    "            instance_masks.append(bool_array)\n",
    "            class_ids.append(category_id)\n",
    "\n",
    "        mask = np.dstack(instance_masks)\n",
    "        class_ids = np.array(class_ids, dtype=np.int32)\n",
    "\n",
    "        return mask.astype(\"bool\"), asarray(class_ids, dtype='int32')"
   ]
  },
  {
   "cell_type": "markdown",
   "source": [
    "# Load Training and Validation Dataset"
   ],
   "metadata": {
    "collapsed": false
   }
  },
  {
   "cell_type": "code",
   "execution_count": 42,
   "outputs": [
    {
     "name": "stderr",
     "output_type": "stream",
     "text": [
      "Using custom data configuration default-4f709f9fcb90a78e\n",
      "Found cached dataset pelophylax_lessonae (/home/per/.cache/huggingface/datasets/pelophylax_lessonae/default-4f709f9fcb90a78e/0.0.0/e3d448178a59568d51f6b4f5bff85105604bdf9469c96fd6494e7c2d76c25e3c)\n"
     ]
    },
    {
     "data": {
      "text/plain": "  0%|          | 0/1 [00:00<?, ?it/s]",
      "application/vnd.jupyter.widget-view+json": {
       "version_major": 2,
       "version_minor": 0,
       "model_id": "6845f8777b704f18903e842cc3bc999d"
      }
     },
     "metadata": {},
     "output_type": "display_data"
    },
    {
     "name": "stderr",
     "output_type": "stream",
     "text": [
      "Using custom data configuration default-9708ba264ff4d9b3\n",
      "Found cached dataset pelophylax_lessonae (/home/per/.cache/huggingface/datasets/pelophylax_lessonae/default-9708ba264ff4d9b3/0.0.0/e3d448178a59568d51f6b4f5bff85105604bdf9469c96fd6494e7c2d76c25e3c)\n"
     ]
    },
    {
     "data": {
      "text/plain": "  0%|          | 0/1 [00:00<?, ?it/s]",
      "application/vnd.jupyter.widget-view+json": {
       "version_major": 2,
       "version_minor": 0,
       "model_id": "262bc5215f474dd4b693b4f3eea07732"
      }
     },
     "metadata": {},
     "output_type": "display_data"
    }
   ],
   "source": [
    "# Train\n",
    "train_dataset = FrogStomachDataset()\n",
    "train_dataset.load_dataset(\n",
    "    images_dir=str(FROG_IMAGES),\n",
    "    dataset_dir=str(FROG_DATASET),\n",
    "    is_train=True\n",
    ")\n",
    "train_dataset.prepare()\n",
    "\n",
    "val_dataset = FrogStomachDataset()\n",
    "val_dataset.load_dataset(\n",
    "    images_dir=str(FROG_IMAGES),\n",
    "    dataset_dir=str(FROG_DATASET),\n",
    "    is_train=False\n",
    ")\n",
    "val_dataset.prepare()"
   ],
   "metadata": {
    "collapsed": false
   }
  },
  {
   "cell_type": "markdown",
   "source": [
    "# Visualize samples from Validation Set"
   ],
   "metadata": {
    "collapsed": false
   }
  },
  {
   "cell_type": "code",
   "execution_count": 43,
   "metadata": {},
   "outputs": [
    {
     "data": {
      "text/plain": "<Figure size 1400x500 with 5 Axes>",
      "image/png": "[encoded data removed]"
     },
     "metadata": {},
     "output_type": "display_data"
    }
   ],
   "source": [
    "image_ids = np.random.choice(val_dataset.image_ids, 1)\n",
    "for image_id in image_ids:\n",
    "    image = val_dataset.load_image(image_id)\n",
    "    mask, class_ids = val_dataset.load_mask(image_id)\n",
    "    visualize.display_top_masks(image, mask, class_ids, val_dataset.class_names)"
   ]
  },
  {
   "cell_type": "markdown",
   "source": [
    "# Setup Mask R-CNN - Training Model"
   ],
   "metadata": {
    "collapsed": false
   }
  },
  {
   "cell_type": "code",
   "execution_count": 50,
   "metadata": {},
   "outputs": [
    {
     "name": "stdout",
     "output_type": "stream",
     "text": [
      "WARNING:tensorflow:AutoGraph could not transform <bound method MaskRCNN.build.<locals>.ConstLayer.call of <mrcnn.model.MaskRCNN.build.<locals>.ConstLayer object at 0x7ef9a9315650>> and will run it as-is.\n",
      "Please report this to the TensorFlow team. When filing the bug, set the verbosity to 10 (on Linux, `export AUTOGRAPH_VERBOSITY=10`) and attach the full output.\n",
      "Cause: 'arguments' object has no attribute 'posonlyargs'\n",
      "To silence this warning, decorate the function with @tf.autograph.experimental.do_not_convert\n",
      "WARNING: AutoGraph could not transform <bound method MaskRCNN.build.<locals>.ConstLayer.call of <mrcnn.model.MaskRCNN.build.<locals>.ConstLayer object at 0x7ef9a9315650>> and will run it as-is.\n",
      "Please report this to the TensorFlow team. When filing the bug, set the verbosity to 10 (on Linux, `export AUTOGRAPH_VERBOSITY=10`) and attach the full output.\n",
      "Cause: 'arguments' object has no attribute 'posonlyargs'\n",
      "To silence this warning, decorate the function with @tf.autograph.experimental.do_not_convert\n"
     ]
    }
   ],
   "source": [
    "class FrogStomachConfig(mrcnn.config.Config):\n",
    "    NAME = CLASS_NAME\n",
    "    GPU_COUNT = 1\n",
    "    NUM_CLASSES =  1 + 1\n",
    "\n",
    "\n",
    "    DETECTION_MIN_CONFIDENCE = 0.9\n",
    "\n",
    "    IMAGES_PER_GPU = 64\n",
    "    STEPS_PER_EPOCH = 1000\n",
    "    IMAGE_MIN_DIM = 128\n",
    "    IMAGE_MAX_DIM = 128\n",
    "\n",
    "# Model Configuration\n",
    "frog_config = FrogStomachConfig()\n",
    "\n",
    "# Build the Mask R-CNN Model Architecture\n",
    "train_model = mrcnn.model.MaskRCNN(mode='training',\n",
    "                             model_dir=str(WEIGHTS_PATH.absolute()),\n",
    "                             config=frog_config)\n",
    "\n",
    "\"\"\"train_model.keras_model.add_metric(\n",
    "    tf.keras.metrics.MeanIoU(name=\"mean_io_u_1\",dtype=tf.float32,num_classes=2), name=\"metric_io_u\"\n",
    ")\"\"\"\n",
    "train_model.load_weights(filepath=str(COCO_WEIGHTS.absolute()),\n",
    "                         by_name=True,\n",
    "                         exclude=[\"mrcnn_class_logits\", \"mrcnn_bbox_fc\",  \"mrcnn_bbox\", \"mrcnn_mask\"])\n"
   ]
  },
  {
   "cell_type": "markdown",
   "source": [
    "# Setup Mask R-CNN - Inference Model"
   ],
   "metadata": {
    "collapsed": false
   }
  },
  {
   "cell_type": "code",
   "execution_count": 51,
   "outputs": [
    {
     "name": "stdout",
     "output_type": "stream",
     "text": [
      "WARNING:tensorflow:AutoGraph could not transform <function refine_detections_graph.<locals>.nms_keep_map at 0x7ef98c236170> and will run it as-is.\n",
      "Please report this to the TensorFlow team. When filing the bug, set the verbosity to 10 (on Linux, `export AUTOGRAPH_VERBOSITY=10`) and attach the full output.\n",
      "Cause: module 'gast' has no attribute 'Constant'\n",
      "To silence this warning, decorate the function with @tf.autograph.experimental.do_not_convert\n",
      "WARNING: AutoGraph could not transform <function refine_detections_graph.<locals>.nms_keep_map at 0x7ef98c236170> and will run it as-is.\n",
      "Please report this to the TensorFlow team. When filing the bug, set the verbosity to 10 (on Linux, `export AUTOGRAPH_VERBOSITY=10`) and attach the full output.\n",
      "Cause: module 'gast' has no attribute 'Constant'\n",
      "To silence this warning, decorate the function with @tf.autograph.experimental.do_not_convert\n"
     ]
    }
   ],
   "source": [
    "class InferenceConfig(FrogStomachConfig):\n",
    "    GPU_COUNT = 1\n",
    "    IMAGES_PER_GPU = 1\n",
    "    USE_MINI_MASK = False\n",
    "\n",
    "inference_config = InferenceConfig()\n",
    "\n",
    "# Recreate the model in inference mode\n",
    "inference_model = mrcnn.model.MaskRCNN(mode=\"inference\",\n",
    "                             config=inference_config,\n",
    "                             model_dir=str(WEIGHTS_PATH.absolute()))"
   ],
   "metadata": {
    "collapsed": false
   }
  },
  {
   "cell_type": "markdown",
   "metadata": {},
   "source": [
    "# Train using Transfer Learning"
   ]
  },
  {
   "cell_type": "code",
   "execution_count": null,
   "metadata": {
    "pycharm": {
     "is_executing": true
    }
   },
   "outputs": [
    {
     "name": "stdout",
     "output_type": "stream",
     "text": [
      "\n",
      "Starting at epoch 0. LR=0.001\n",
      "\n",
      "Checkpoint Path: /home/per/Downloads/Auto-Annotate/frog_identity_recognition/weights/frog_stomach20221002T1844/mask_rcnn_frog_stomach_{epoch:04d}.h5\n",
      "Selecting layers to train\n",
      "fpn_c5p5               (Conv2D)\n",
      "fpn_c4p4               (Conv2D)\n",
      "fpn_c3p3               (Conv2D)\n",
      "fpn_c2p2               (Conv2D)\n",
      "fpn_p5                 (Conv2D)\n",
      "fpn_p2                 (Conv2D)\n",
      "fpn_p3                 (Conv2D)\n",
      "fpn_p4                 (Conv2D)\n",
      "rpn_model              (Functional)\n",
      "mrcnn_mask_conv1       (TimeDistributed)\n",
      "mrcnn_mask_bn1         (TimeDistributed)\n",
      "mrcnn_mask_conv2       (TimeDistributed)\n",
      "mrcnn_mask_bn2         (TimeDistributed)\n",
      "mrcnn_class_conv1      (TimeDistributed)\n",
      "mrcnn_class_bn1        (TimeDistributed)\n",
      "mrcnn_mask_conv3       (TimeDistributed)\n",
      "mrcnn_mask_bn3         (TimeDistributed)\n",
      "mrcnn_class_conv2      (TimeDistributed)\n",
      "mrcnn_class_bn2        (TimeDistributed)\n",
      "mrcnn_mask_conv4       (TimeDistributed)\n",
      "mrcnn_mask_bn4         (TimeDistributed)\n",
      "mrcnn_bbox_fc          (TimeDistributed)\n",
      "mrcnn_mask_deconv      (TimeDistributed)\n",
      "mrcnn_class_logits     (TimeDistributed)\n",
      "mrcnn_mask             (TimeDistributed)\n"
     ]
    }
   ],
   "source": [
    "from frog_identity_recognition.callbacks import MeanAveragePrecisionCallback\n",
    "\n",
    "\"\"\"mean_average_precision_callback = MeanAveragePrecisionCallback(\n",
    "    train_model,\n",
    "    inference_model,\n",
    "    val_dataset,\n",
    "    calculate_map_at_every_X_epoch=1,\n",
    "    verbose=1\n",
    ")\"\"\"\n",
    "\n",
    "with warnings.catch_warnings():\n",
    "    warnings.simplefilter(\"ignore\")\n",
    "    train_model.train(train_dataset=train_dataset,\n",
    "                val_dataset=val_dataset,\n",
    "                learning_rate=frog_config.LEARNING_RATE,\n",
    "                custom_callbacks=[], # mean_average_precision_callback\n",
    "                epochs=10,\n",
    "                layers='heads')\n",
    "    \"\"\"augmentation = imgaug.augmenters.Sometimes(0.5, [\n",
    "        imgaug.augmenters.Fliplr(0.5),\n",
    "        imgaug.augmenters.GaussianBlur(sigma=(0.0, 5.0))\n",
    "    ]),\"\"\"\n",
    "\n",
    "    train_model.keras_model.save_weights(str(FROG_WEIGHTS.absolute()))\n"
   ]
  },
  {
   "cell_type": "code",
   "execution_count": null,
   "outputs": [],
   "source": [
    "# Fine tune all layers\n",
    "# Passing layers=\"all\" trains all layers. You can also\n",
    "# pass a regular expression to select which layers to\n",
    "# train by name pattern.\n",
    "train_model.train(train_dataset, val_dataset,\n",
    "            learning_rate=frog_config.LEARNING_RATE / 10,\n",
    "            epochs=2,\n",
    "            layers=\"all\")\n"
   ],
   "metadata": {
    "collapsed": false
   }
  },
  {
   "cell_type": "code",
   "execution_count": null,
   "outputs": [],
   "source": [
    "inference_model_path = inference_model.find_last()\n",
    "\n",
    "print(\"Loading weights from \", inference_model_path)\n",
    "inference_model.load_weights(inference_model_path, by_name=True)"
   ],
   "metadata": {
    "collapsed": false
   }
  },
  {
   "cell_type": "code",
   "execution_count": null,
   "outputs": [],
   "source": [
    "import random\n",
    "# Test on a random image\n",
    "image_id = random.choice(val_dataset.image_ids)\n",
    "original_image, image_meta, gt_class_id, gt_bbox, gt_mask =\\\n",
    "    mrcnn.model.load_image_gt(val_dataset, inference_config, image_id)\n",
    "\n",
    "\n",
    "\n",
    "visualize.display_instances(original_image, gt_bbox, gt_mask, gt_class_id,\n",
    "                            train_dataset.class_names, figsize=(8, 8))\n"
   ],
   "metadata": {
    "collapsed": false
   }
  },
  {
   "cell_type": "code",
   "execution_count": null,
   "outputs": [],
   "source": [
    "from mrcnn.model import log\n",
    "import matplotlib\n",
    "import matplotlib.pyplot as plt\n",
    "%matplotlib inline\n",
    "\n",
    "dataset = train_dataset\n",
    "config = inference_config\n",
    "\n",
    "image_id = random.choice(dataset.image_ids)\n",
    "\n",
    "image, image_meta, gt_class_id, gt_bbox, gt_mask = mrcnn.model.load_image_gt(dataset, config, image_id)\n",
    "\n",
    "print(image.shape)\n",
    "\n",
    "info = dataset.image_info[image_id]\n",
    "print(\"image ID: {}.{} ({}) {}\".format(info[\"source\"], info[\"id\"], image_id,\n",
    "                                       dataset.image_reference(image_id)))\n",
    "\n",
    "# Run object detection\n",
    "results = inference_model.detect([image], verbose=1)\n",
    "\n",
    "# Display results\n",
    "r = results[0]\n",
    "visualize.display_instances(image, r['rois'], r['masks'], r['class_ids'], dataset.class_names, r['scores'], title=\"Predictions\")\n",
    "log(\"gt_class_id\", gt_class_id)\n",
    "log(\"gt_bbox\", gt_bbox)\n",
    "log(\"gt_mask\", gt_mask)"
   ],
   "metadata": {
    "collapsed": false
   }
  },
  {
   "cell_type": "code",
   "execution_count": null,
   "outputs": [],
   "source": [
    "\n",
    "dataset = train_dataset\n",
    "\n",
    "# Must call before using the dataset\n",
    "dataset.prepare()\n",
    "\n",
    "print(\"Images: {}\\nClasses: {}\".format(len(dataset.image_ids), dataset.class_names))\n"
   ],
   "metadata": {
    "collapsed": false
   }
  },
  {
   "cell_type": "code",
   "execution_count": null,
   "outputs": [],
   "source": [],
   "metadata": {
    "collapsed": false
   }
  }
 ],
 "metadata": {
  "kernelspec": {
   "display_name": "Python 3",
   "language": "python",
   "name": "python3"
  },
  "language_info": {
   "codemirror_mode": {
    "name": "ipython",
    "version": 3
   },
   "file_extension": ".py",
   "mimetype": "text/x-python",
   "name": "python",
   "nbconvert_exporter": "python",
   "pygments_lexer": "ipython3",
   "version": "3.6.9"
  }
 },
 "nbformat": 4,
 "nbformat_minor": 1
}
